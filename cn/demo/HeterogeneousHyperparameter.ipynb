{
 "cells": [
  {
   "cell_type": "code",
   "execution_count": 1,
   "metadata": {
    "collapsed": false,
    "scrolled": true
   },
   "outputs": [
    {
     "data": {
      "text/plain": [
       "\u001b[32mimport \u001b[39m\u001b[36m$ivy.$                     \n",
       "\u001b[39m\n",
       "\u001b[32mimport \u001b[39m\u001b[36m$ivy.$                                    \n",
       "\u001b[39m\n",
       "\u001b[32mimport \u001b[39m\u001b[36m$ivy.$                                                      \n",
       "\n",
       "\u001b[39m\n",
       "\u001b[32mimport \u001b[39m\u001b[36morg.nd4j.linalg.api.ndarray.INDArray\n",
       "\u001b[39m\n",
       "\u001b[32mimport \u001b[39m\u001b[36morg.nd4j.linalg.factory.Nd4j\n",
       "\u001b[39m\n",
       "\u001b[32mimport \u001b[39m\u001b[36mcom.thoughtworks.deeplearning.plugins.Builtins\n",
       "\u001b[39m\n",
       "\u001b[32mimport \u001b[39m\u001b[36mcom.thoughtworks.deeplearning.DeepLearning\n",
       "\u001b[39m\n",
       "\u001b[32mimport \u001b[39m\u001b[36mcom.thoughtworks.feature.Factory\n",
       "\u001b[39m\n",
       "\u001b[32mimport \u001b[39m\u001b[36mscala.concurrent.ExecutionContext.Implicits.global\u001b[39m"
      ]
     },
     "execution_count": 1,
     "metadata": {},
     "output_type": "execute_result"
    }
   ],
   "source": [
    "import $ivy.`org.nd4j::nd4s:0.8.0`\n",
    "import $ivy.`org.nd4j:nd4j-native-platform:0.8.0`\n",
    "import $ivy.`com.thoughtworks.deeplearning::plugins-builtins:2.0.2`\n",
    "\n",
    "import org.nd4j.linalg.api.ndarray.INDArray\n",
    "import org.nd4j.linalg.factory.Nd4j\n",
    "import com.thoughtworks.deeplearning.plugins.Builtins\n",
    "import com.thoughtworks.deeplearning.DeepLearning\n",
    "import com.thoughtworks.feature.Factory\n",
    "import scala.concurrent.ExecutionContext.Implicits.global"
   ]
  },
  {
   "cell_type": "code",
   "execution_count": 3,
   "metadata": {
    "collapsed": true
   },
   "outputs": [],
   "source": [
    "interp.load(scala.io.Source.fromURL(new java.net.URL(\"https://gist.github.com/Atry/1fb0608c655e3233e68b27ba99515f16/raw/39ba06ee597839d618f2fcfe9526744c60f2f70a/FixedLearningRate.sc\")).mkString)"
   ]
  },
  {
   "cell_type": "code",
   "execution_count": 5,
   "metadata": {
    "collapsed": false
   },
   "outputs": [],
   "source": [
    "interp.load(\"\"\"\n",
    "val hyperparameters1 = Factory[Builtins with FixedLearningRate].newInstance(learningRate = 0.01)\n",
    "\"\"\")"
   ]
  },
  {
   "cell_type": "code",
   "execution_count": 6,
   "metadata": {
    "collapsed": false
   },
   "outputs": [
    {
     "name": "stderr",
     "output_type": "stream",
     "text": [
      "SLF4J: Failed to load class \"org.slf4j.impl.StaticLoggerBinder\".\n",
      "SLF4J: Defaulting to no-operation (NOP) logger implementation\n",
      "SLF4J: See http://www.slf4j.org/codes.html#StaticLoggerBinder for further details.\n"
     ]
    },
    {
     "data": {
      "text/plain": [
       "\u001b[32mimport \u001b[39m\u001b[36mhyperparameters1.{INDArrayLayer, INDArrayWeight}\n",
       "\n",
       "\u001b[39m\n",
       "\u001b[36mweight1\u001b[39m: \u001b[32mObject\u001b[39m with \u001b[32mhyperparameters1\u001b[39m.\u001b[32mINDArrayWeightApi\u001b[39m with \u001b[32mhyperparameters1\u001b[39m.\u001b[32mWeightApi\u001b[39m with \u001b[32mhyperparameters1\u001b[39m.\u001b[32mWeightApi\u001b[39m = Weight[fullName=$sess.cmd5Wrapper.Helper.weight1]"
      ]
     },
     "execution_count": 6,
     "metadata": {},
     "output_type": "execute_result"
    }
   ],
   "source": [
    "import hyperparameters1.{INDArrayLayer, INDArrayWeight}\n",
    "\n",
    "val weight1 = {\n",
    "  INDArrayWeight(Nd4j.randn(10, 10))\n",
    "}"
   ]
  },
  {
   "cell_type": "code",
   "execution_count": 7,
   "metadata": {
    "collapsed": false
   },
   "outputs": [
    {
     "data": {
      "text/plain": [
       "defined \u001b[32mfunction\u001b[39m \u001b[36mlayer1\u001b[39m"
      ]
     },
     "execution_count": 7,
     "metadata": {},
     "output_type": "execute_result"
    }
   ],
   "source": [
    "def layer1(input: INDArrayLayer): INDArrayLayer = {\n",
    "  import hyperparameters1.implicits._\n",
    "  import hyperparameters1.max\n",
    "  max(input.dot(weight1), 0.0)\n",
    "}"
   ]
  },
  {
   "cell_type": "code",
   "execution_count": 9,
   "metadata": {
    "collapsed": true
   },
   "outputs": [],
   "source": [
    "interp.load(scala.io.Source.fromURL(new java.net.URL(\"https://gist.github.com/Atry/89ee1baa4c161b8ccc1b82cdd9c109fe/raw/d39cec0483a78a514342b16567aebebe0f890d38/Adagrad.sc\")).mkString)"
   ]
  },
  {
   "cell_type": "code",
   "execution_count": 11,
   "metadata": {
    "collapsed": false
   },
   "outputs": [],
   "source": [
    "interp.load(\"\"\"\n",
    "  val hyperparameters2 = Factory[Builtins with FixedLearningRate with Adagrad].newInstance(\n",
    "    learningRate = 0.002,\n",
    "    eps = 0.0001\n",
    "  )\n",
    "\"\"\")"
   ]
  },
  {
   "cell_type": "code",
   "execution_count": 12,
   "metadata": {
    "collapsed": false
   },
   "outputs": [
    {
     "data": {
      "text/plain": [
       "\u001b[36mweight2\u001b[39m: \u001b[32mObject\u001b[39m with \u001b[32mhyperparameters2\u001b[39m.\u001b[32mINDArrayWeightApi\u001b[39m with \u001b[32mhyperparameters2\u001b[39m.\u001b[32mWeightApi\u001b[39m with \u001b[32mhyperparameters2\u001b[39m.\u001b[32mWeightApi\u001b[39m with \u001b[32mhyperparameters2\u001b[39m.\u001b[32mINDArrayWeightApi\u001b[39m = Weight[fullName=$sess.cmd11Wrapper.Helper.weight2]"
      ]
     },
     "execution_count": 12,
     "metadata": {},
     "output_type": "execute_result"
    }
   ],
   "source": [
    "val weight2 = hyperparameters2.INDArrayWeight(Nd4j.randn(10, 10))"
   ]
  },
  {
   "cell_type": "code",
   "execution_count": 13,
   "metadata": {
    "collapsed": false
   },
   "outputs": [
    {
     "data": {
      "text/plain": [
       "defined \u001b[32mfunction\u001b[39m \u001b[36mlayer2\u001b[39m"
      ]
     },
     "execution_count": 13,
     "metadata": {},
     "output_type": "execute_result"
    }
   ],
   "source": [
    "def layer2(input: hyperparameters1.INDArrayLayer): hyperparameters2.INDArrayLayer = {\n",
    "  import hyperparameters2.implicits._\n",
    "  import hyperparameters2.max\n",
    "  import hyperparameters1.implicits.{layerDeepLearning => layerDeepLearning1}\n",
    "  max(layer1(input) dot weight2, 0.0)\n",
    "}"
   ]
  },
  {
   "cell_type": "code",
   "execution_count": 14,
   "metadata": {
    "collapsed": false
   },
   "outputs": [
    {
     "data": {
      "text/plain": [
       "defined \u001b[32mtype\u001b[39m \u001b[36mINDArrayExpression\u001b[39m"
      ]
     },
     "execution_count": 14,
     "metadata": {},
     "output_type": "execute_result"
    }
   ],
   "source": [
    "type INDArrayExpression[Expression] = DeepLearning[Expression] {\n",
    "  /** The type of result calculated during forward pass */\n",
    "  type Data = INDArray\n",
    "\n",
    "  /** The type of derivative during backward pass */\n",
    "  type Delta = INDArray\n",
    "}"
   ]
  },
  {
   "cell_type": "code",
   "execution_count": 15,
   "metadata": {
    "collapsed": false
   },
   "outputs": [
    {
     "data": {
      "text/plain": [
       "defined \u001b[32mfunction\u001b[39m \u001b[36mpolyLayer1\u001b[39m\n",
       "defined \u001b[32mfunction\u001b[39m \u001b[36mpolyLayer2\u001b[39m"
      ]
     },
     "execution_count": 15,
     "metadata": {},
     "output_type": "execute_result"
    }
   ],
   "source": [
    "def polyLayer1[Input: INDArrayExpression](input: Input): hyperparameters1.INDArrayLayer = {\n",
    "  import hyperparameters1.implicits._\n",
    "  import hyperparameters1.max\n",
    "  max(input.dot(weight1), 0.0)\n",
    "}\n",
    "\n",
    "def polyLayer2[Input: INDArrayExpression](input: Input): hyperparameters2.INDArrayLayer = {\n",
    "  import hyperparameters2.implicits._\n",
    "  import hyperparameters2.max  \n",
    "  import hyperparameters1.implicits.{layerDeepLearning => layerDeepLearning1}\n",
    "  max(polyLayer1(input).dot(weight2), 0.0)\n",
    "}"
   ]
  },
  {
   "cell_type": "code",
   "execution_count": null,
   "metadata": {
    "collapsed": true
   },
   "outputs": [],
   "source": []
  }
 ],
 "metadata": {
  "kernelspec": {
   "display_name": "Scala",
   "language": "scala",
   "name": "scala"
  },
  "language_info": {
   "codemirror_mode": "text/x-scala",
   "file_extension": ".scala",
   "mimetype": "text/x-scala",
   "name": "scala211",
   "nbconvert_exporter": "script",
   "pygments_lexer": "scala",
   "version": "2.11.11"
  }
 },
 "nbformat": 4,
 "nbformat_minor": 2
}
